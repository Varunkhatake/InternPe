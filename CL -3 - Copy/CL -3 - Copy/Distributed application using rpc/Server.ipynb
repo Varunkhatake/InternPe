{
 "cells": [
  {
   "cell_type": "code",
   "execution_count": 1,
   "id": "062cd348-6031-4fb0-9831-733933ece3f2",
   "metadata": {},
   "outputs": [],
   "source": [
    "from xmlrpc.server import SimpleXMLRPCServer"
   ]
  },
  {
   "cell_type": "code",
   "execution_count": 3,
   "id": "274b5093-60e7-40a8-91f8-1c94464f8941",
   "metadata": {},
   "outputs": [],
   "source": [
    "def factorial(n):\n",
    "    if n<0:\n",
    "        return \"Factorial not defined for the negative nos\"\n",
    "    elif n==0 or n==1:\n",
    "        return 1\n",
    "    else:\n",
    "        result = 1\n",
    "        for i in range(2,n+1):\n",
    "            result*=i\n",
    "        return result"
   ]
  },
  {
   "cell_type": "code",
   "execution_count": 5,
   "id": "dee58ec3-752c-44df-a6bf-5ef3186226b5",
   "metadata": {},
   "outputs": [
    {
     "name": "stdout",
     "output_type": "stream",
     "text": [
      "Server is running on the port 8000...\n"
     ]
    }
   ],
   "source": [
    "# Create Rpc server\n",
    "server=SimpleXMLRPCServer((\"localhost\",80))\n",
    "print(\"Server is running on the port 8000...\")\n"
   ]
  },
  {
   "cell_type": "code",
   "execution_count": 7,
   "id": "9f9ce63f-0b67-4597-a26d-21a1a678a17a",
   "metadata": {},
   "outputs": [
    {
     "data": {
      "text/plain": [
       "<function __main__.factorial(n)>"
      ]
     },
     "execution_count": 7,
     "metadata": {},
     "output_type": "execute_result"
    }
   ],
   "source": [
    "# Register function\n",
    "server.register_function(factorial,\"factorial\")\n"
   ]
  },
  {
   "cell_type": "code",
   "execution_count": null,
   "id": "9e09cbad-6c77-4d68-91e8-e95118168882",
   "metadata": {},
   "outputs": [
    {
     "name": "stderr",
     "output_type": "stream",
     "text": [
      "127.0.0.1 - - [06/May/2025 13:08:38] \"POST / HTTP/1.1\" 200 -\n"
     ]
    }
   ],
   "source": [
    "#start server\n",
    "server.serve_forever()"
   ]
  },
  {
   "cell_type": "code",
   "execution_count": null,
   "id": "637860a8-b935-4864-9096-1c7235eb6df4",
   "metadata": {},
   "outputs": [],
   "source": []
  }
 ],
 "metadata": {
  "kernelspec": {
   "display_name": "Python [conda env:base] *",
   "language": "python",
   "name": "conda-base-py"
  },
  "language_info": {
   "codemirror_mode": {
    "name": "ipython",
    "version": 3
   },
   "file_extension": ".py",
   "mimetype": "text/x-python",
   "name": "python",
   "nbconvert_exporter": "python",
   "pygments_lexer": "ipython3",
   "version": "3.12.7"
  }
 },
 "nbformat": 4,
 "nbformat_minor": 5
}
