{
 "cells": [
  {
   "cell_type": "code",
   "execution_count": 1,
   "id": "24c9fdd6-8168-4fe7-8cf4-923cdbca46d5",
   "metadata": {},
   "outputs": [],
   "source": [
    "import xmlrpc.client"
   ]
  },
  {
   "cell_type": "code",
   "execution_count": 2,
   "id": "4f6acd9c-6232-478e-8df7-c0765a606bc9",
   "metadata": {},
   "outputs": [],
   "source": [
    "# Connect to server\n",
    "proxy=xmlrpc.client.ServerProxy(\"http://localhost:80/\")"
   ]
  },
  {
   "cell_type": "code",
   "execution_count": 3,
   "id": "f3ac46a7-f79b-4c63-86ad-41d32b26e085",
   "metadata": {},
   "outputs": [
    {
     "name": "stdin",
     "output_type": "stream",
     "text": [
      "Enter an integer to calculate factorial:  5\n"
     ]
    }
   ],
   "source": [
    "# Input from user\n",
    "num=int(input(\"Enter an integer to calculate factorial: \"))"
   ]
  },
  {
   "cell_type": "code",
   "execution_count": 4,
   "id": "8da40b87-20f8-4902-bc05-6a0c4e8287ef",
   "metadata": {},
   "outputs": [],
   "source": [
    "# Call remote meythod\n",
    "result=proxy.factorial(num)"
   ]
  },
  {
   "cell_type": "code",
   "execution_count": 5,
   "id": "2a72b606-cd07-4afe-9bd8-b097799f0f89",
   "metadata": {},
   "outputs": [
    {
     "name": "stdout",
     "output_type": "stream",
     "text": [
      "Factorial of 5 is : 120\n"
     ]
    }
   ],
   "source": [
    "# Display result\n",
    "print(f'Factorial of {num} is : {result}')"
   ]
  },
  {
   "cell_type": "code",
   "execution_count": null,
   "id": "1b931ce8-8f86-4775-aa78-57fbaa778f58",
   "metadata": {},
   "outputs": [],
   "source": []
  }
 ],
 "metadata": {
  "kernelspec": {
   "display_name": "Python [conda env:base] *",
   "language": "python",
   "name": "conda-base-py"
  },
  "language_info": {
   "codemirror_mode": {
    "name": "ipython",
    "version": 3
   },
   "file_extension": ".py",
   "mimetype": "text/x-python",
   "name": "python",
   "nbconvert_exporter": "python",
   "pygments_lexer": "ipython3",
   "version": "3.12.7"
  }
 },
 "nbformat": 4,
 "nbformat_minor": 5
}
