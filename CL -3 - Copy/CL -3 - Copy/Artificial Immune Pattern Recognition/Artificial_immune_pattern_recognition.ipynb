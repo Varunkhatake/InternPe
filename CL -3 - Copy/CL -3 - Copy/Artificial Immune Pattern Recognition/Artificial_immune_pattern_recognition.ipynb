{
 "cells": [
  {
   "cell_type": "code",
   "execution_count": 1,
   "id": "47ace829-9466-4ae1-9769-1b97717712d4",
   "metadata": {},
   "outputs": [],
   "source": [
    "import numpy as np\n",
    "from sklearn.datasets import load_iris\n",
    "from sklearn.preprocessing import StandardScaler\n",
    "from sklearn.metrics import accuracy_score\n",
    "from sklearn.model_selection import train_test_split"
   ]
  },
  {
   "cell_type": "code",
   "execution_count": 3,
   "id": "9ba1838e-d2e7-4752-8ec8-d31266dd5d09",
   "metadata": {},
   "outputs": [],
   "source": [
    "iris = load_iris()\n",
    "X, y = iris.data, iris.target\n",
    "scaler = StandardScaler()\n",
    "X = scaler.fit_transform(X)"
   ]
  },
  {
   "cell_type": "code",
   "execution_count": 5,
   "id": "887995b8-3693-4d56-b254-5bd1c0f94d1c",
   "metadata": {},
   "outputs": [],
   "source": [
    "X_train, X_test, y_train , y_test = train_test_split(X, y, random_state = 42, test_size = 0.3)  "
   ]
  },
  {
   "cell_type": "code",
   "execution_count": 7,
   "id": "aa015621-1b85-4100-9b9a-99c1a0ef8f88",
   "metadata": {},
   "outputs": [],
   "source": [
    "# Antibody classes\n",
    "class Antibody:\n",
    "    def __init__(self, n_features = 4, n_classes = 3):\n",
    "        self.weights = np.random.randn(n_classes, n_features)\n",
    "        self.bias = np.random.randn(n_classes)\n",
    "        self.affinity = 0.0\n",
    "\n",
    "    def predict(self, x):\n",
    "        logits = np.dot(self.weights, x) + self.bias\n",
    "        return np.argmax(logits)\n",
    "\n",
    "    def evaluate(self, X, y, reg_lambda=0.01):\n",
    "        preds = [self.predict(x) for x in X]\n",
    "        acc = accuracy_score(y, preds)\n",
    "        reg_term = reg_lambda * np.sum(self.weights**2)\n",
    "        self.affinity = acc - reg_term\n",
    "        return self.affinity"
   ]
  },
  {
   "cell_type": "code",
   "execution_count": 9,
   "id": "a5143a26-7c6b-48b5-b2d3-a0b16736f6cb",
   "metadata": {},
   "outputs": [],
   "source": [
    "# CLONALG with regularization + early stopping\n",
    "def clonal_selection(\n",
    "    X, y, pop_size = 20, n_generations = 50, clones_per = 5, mutation_rate = 0.1, reg_lambda = 0.01, patience=5\n",
    "):\n",
    "    population = [Antibody() for _ in range(pop_size)]\n",
    "    patience_counter = 0\n",
    "    best_affinity = -np.inf\n",
    "\n",
    "    for gen in range(n_generations):\n",
    "        for ab in population:\n",
    "            ab.evaluate(X,y,reg_lambda)\n",
    "\n",
    "        population.sort(key=lambda ab:ab.affinity, reverse=True)\n",
    "        best = population[:pop_size // 2]\n",
    "\n",
    "        if best[0].affinity > best_affinity + 1e-4:\n",
    "            best_affinity = best[0].affinity\n",
    "            patience_counter = 0\n",
    "        else:\n",
    "            patience_counter += 1\n",
    "\n",
    "        print(f'Generation {gen+1} - Best_affinity: {best_affinity:.4f}')\n",
    "        if patience_counter >= patience:\n",
    "            print(\"Early stopping due to environment\")\n",
    "            break\n",
    "            \n",
    "        # Cloning and mutation\n",
    "        clones=[]\n",
    "        for ab in best:\n",
    "            for _ in range(clones_per):\n",
    "                clone = Antibody()\n",
    "                clone.weights = ab.weights + np.random.normal(0, mutation_rate, size=ab.weights.shape)\n",
    "                clone.bias = ab.bias + np.random.normal(0, mutation_rate, size=ab.bias.shape)\n",
    "                clones.append(clone)\n",
    "\n",
    "        for clone in clones:\n",
    "            clone.evaluate(X, y, reg_lambda)\n",
    "\n",
    "        population = sorted(best + clones, key=lambda ab: ab.affinity, reverse=True)\n",
    "    return population[0]"
   ]
  },
  {
   "cell_type": "code",
   "execution_count": 11,
   "id": "34f03a2b-b46e-4797-ba2c-11b6a4c4240a",
   "metadata": {},
   "outputs": [
    {
     "name": "stdout",
     "output_type": "stream",
     "text": [
      "Generation 1 - Best_affinity: 0.6224\n",
      "Generation 2 - Best_affinity: 0.6365\n",
      "Generation 3 - Best_affinity: 0.6845\n",
      "Generation 4 - Best_affinity: 0.7345\n",
      "Generation 5 - Best_affinity: 0.7440\n",
      "Generation 6 - Best_affinity: 0.7747\n",
      "Generation 7 - Best_affinity: 0.7948\n",
      "Generation 8 - Best_affinity: 0.8123\n",
      "Generation 9 - Best_affinity: 0.8489\n",
      "Generation 10 - Best_affinity: 0.8489\n",
      "Generation 11 - Best_affinity: 0.8540\n",
      "Generation 12 - Best_affinity: 0.8762\n",
      "Generation 13 - Best_affinity: 0.8762\n",
      "Generation 14 - Best_affinity: 0.8970\n",
      "Generation 15 - Best_affinity: 0.9196\n",
      "Generation 16 - Best_affinity: 0.9196\n",
      "Generation 17 - Best_affinity: 0.9196\n",
      "Generation 18 - Best_affinity: 0.9354\n",
      "Generation 19 - Best_affinity: 0.9354\n",
      "Generation 20 - Best_affinity: 0.9354\n",
      "Generation 21 - Best_affinity: 0.9354\n",
      "Generation 22 - Best_affinity: 0.9354\n",
      "Generation 23 - Best_affinity: 0.9354\n",
      "Early stopping due to environment\n",
      "Final Test accuracy: 97.77777777777777\n"
     ]
    }
   ],
   "source": [
    "# Training\n",
    "best_model = clonal_selection(X_train, y_train)\n",
    "\n",
    "# Evaluation\n",
    "preds = [best_model.predict(x) for x in X_test]\n",
    "acc = accuracy_score(y_test, preds)\n",
    "print(f\"Final Test accuracy: {acc * 100}\")"
   ]
  },
  {
   "cell_type": "code",
   "execution_count": null,
   "id": "4650d774-981d-484e-a3cd-1f811eb0b595",
   "metadata": {},
   "outputs": [],
   "source": []
  }
 ],
 "metadata": {
  "kernelspec": {
   "display_name": "Python [conda env:base] *",
   "language": "python",
   "name": "conda-base-py"
  },
  "language_info": {
   "codemirror_mode": {
    "name": "ipython",
    "version": 3
   },
   "file_extension": ".py",
   "mimetype": "text/x-python",
   "name": "python",
   "nbconvert_exporter": "python",
   "pygments_lexer": "ipython3",
   "version": "3.12.7"
  }
 },
 "nbformat": 4,
 "nbformat_minor": 5
}
