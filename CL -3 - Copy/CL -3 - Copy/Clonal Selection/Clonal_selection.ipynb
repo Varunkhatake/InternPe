{
 "cells": [
  {
   "cell_type": "code",
   "execution_count": 1,
   "id": "6cce5521-d708-4fdd-9800-4a9340806ecb",
   "metadata": {},
   "outputs": [],
   "source": [
    "import numpy as np\n",
    "import pandas as pd\n",
    "from sklearn.datasets import load_breast_cancer\n",
    "from sklearn.model_selection import train_test_split\n",
    "from sklearn.metrics import accuracy_score\n",
    "from sklearn.tree import DecisionTreeClassifier\n",
    "import random"
   ]
  },
  {
   "cell_type": "code",
   "execution_count": 3,
   "id": "dedd93f4-9823-4725-94fa-fd8e3f5c424c",
   "metadata": {},
   "outputs": [],
   "source": [
    "df = load_breast_cancer()\n",
    "X, y = df.data, df.target"
   ]
  },
  {
   "cell_type": "code",
   "execution_count": 5,
   "id": "0b37ab85-30df-41b3-9306-07ab7ee403be",
   "metadata": {},
   "outputs": [],
   "source": [
    "X_train, X_test, y_train, y_test = train_test_split(X,y, test_size=0.2, random_state=42)"
   ]
  },
  {
   "cell_type": "code",
   "execution_count": 7,
   "id": "688d674d-78f4-444e-89ea-16ac0669ba38",
   "metadata": {},
   "outputs": [],
   "source": [
    "# Parameters\n",
    "population_size = 10\n",
    "num_generations = 20\n",
    "clone_factor = 5\n",
    "mutation_rate = 0.1"
   ]
  },
  {
   "cell_type": "code",
   "execution_count": 9,
   "id": "8dab9485-fb2b-4f1b-b346-1668f33bf244",
   "metadata": {},
   "outputs": [],
   "source": [
    "def initialize_population(size):\n",
    "    return [DecisionTreeClassifier(max_depth=random.randint(1,5)) for _ in range(size)]"
   ]
  },
  {
   "cell_type": "code",
   "execution_count": 11,
   "id": "4c3cfd01-dda9-4f74-b4e3-1cef984bf1b9",
   "metadata": {},
   "outputs": [],
   "source": [
    "# Train and evalutate models to get fitness (affinity)\n",
    "def evaluating_population(pop):\n",
    "    affinities = []\n",
    "    for model in pop:\n",
    "        model.fit(X_train, y_train)\n",
    "        pred = model.predict(X_test)\n",
    "        affinities.append(accuracy_score(y_test, pred))\n",
    "    return affinities"
   ]
  },
  {
   "cell_type": "code",
   "execution_count": 13,
   "id": "aca6eb0d-19ab-45cc-8bc5-7c0088b62dd0",
   "metadata": {},
   "outputs": [],
   "source": [
    "# Cloning best models\n",
    "def clone(pop, affinities):\n",
    "    clones = []\n",
    "    for i, model in enumerate(pop):\n",
    "        n_clones = int(affinities[i] * clone_factor * population_size)\n",
    "        for _ in range(n_clones):\n",
    "            clones.append(model)\n",
    "    return clones"
   ]
  },
  {
   "cell_type": "code",
   "execution_count": 15,
   "id": "9a5a5ebc-d4ac-471b-aad9-8c38f3b5d9ad",
   "metadata": {},
   "outputs": [],
   "source": [
    "# Applying random mutation (changing hyperparameters)\n",
    "def mutate(clones):\n",
    "    mutated = []\n",
    "    for model in clones:      \n",
    "        current_depth = model.get_params()['max_depth']\n",
    "        change = random.choice([-1,0,1])\n",
    "        new_depth = min(10, max(1, current_depth + change))\n",
    "        mutated_model = DecisionTreeClassifier(max_depth=new_depth)\n",
    "        mutated.append(mutated_model)\n",
    "    return(mutated)"
   ]
  },
  {
   "cell_type": "code",
   "execution_count": 17,
   "id": "112907cb-7fee-4151-8472-84845b30b290",
   "metadata": {},
   "outputs": [],
   "source": [
    "# Selecting the top models for the next generation\n",
    "def select_best(pop, affinities, size):\n",
    "    # Sort population by affinity in descending order\n",
    "    sorted_pop = [x for _, x in sorted(zip(affinities, pop), key=lambda pair: pair[0], reverse=True)]\n",
    "    return sorted_pop[:size]"
   ]
  },
  {
   "cell_type": "code",
   "execution_count": 19,
   "id": "03929cbf-d48e-4ec4-9f00-9259ba795721",
   "metadata": {},
   "outputs": [
    {
     "name": "stdout",
     "output_type": "stream",
     "text": [
      "Generation 1 - Best Affinity: 0.9474\n",
      "Generation 2 - Best Affinity: 0.9474\n",
      "Generation 3 - Best Affinity: 0.9474\n",
      "Generation 4 - Best Affinity: 0.9474\n",
      "Generation 5 - Best Affinity: 0.9474\n",
      "Generation 6 - Best Affinity: 0.9474\n",
      "Generation 7 - Best Affinity: 0.9474\n",
      "Generation 8 - Best Affinity: 0.9474\n",
      "Generation 9 - Best Affinity: 0.9474\n",
      "Generation 10 - Best Affinity: 0.9474\n",
      "Generation 11 - Best Affinity: 0.9474\n",
      "Generation 12 - Best Affinity: 0.9474\n",
      "Generation 13 - Best Affinity: 0.9474\n",
      "Generation 14 - Best Affinity: 0.9474\n",
      "Generation 15 - Best Affinity: 0.9474\n",
      "Generation 16 - Best Affinity: 0.9474\n",
      "Generation 17 - Best Affinity: 0.9474\n",
      "Generation 18 - Best Affinity: 0.9474\n",
      "Generation 19 - Best Affinity: 0.9474\n",
      "Generation 20 - Best Affinity: 0.9474\n"
     ]
    }
   ],
   "source": [
    "# Main algorithm\n",
    "population = initialize_population(population_size)\n",
    "\n",
    "for gen in range(num_generations):\n",
    "    affinities = evaluating_population(population)\n",
    "    print(f\"Generation {gen+1} - Best Affinity: {max(affinities):.4f}\")\n",
    "    clones = clone(population, affinities)\n",
    "    mutated_clones = mutate(clones)\n",
    "    all_candidates = population + mutated_clones\n",
    "    all_affinities = evaluating_population(all_candidates)\n",
    "    population = select_best(all_candidates, all_affinities, population_size)"
   ]
  },
  {
   "cell_type": "code",
   "execution_count": 21,
   "id": "a8c6ea15-0292-4856-8184-95cba3544d07",
   "metadata": {},
   "outputs": [
    {
     "name": "stdout",
     "output_type": "stream",
     "text": [
      "Final accuracy:  94.73684210526315\n"
     ]
    }
   ],
   "source": [
    "# Evaluation\n",
    "final_model = population[0]\n",
    "final_model.fit(X_train, y_train)\n",
    "y_pred = final_model.predict(X_test)\n",
    "accuracy = accuracy_score(y_test, y_pred)\n",
    "\n",
    "print(\"Final accuracy: \", accuracy*100)"
   ]
  },
  {
   "cell_type": "code",
   "execution_count": null,
   "id": "0bb10574-c608-41df-8fc0-84a4582a3bda",
   "metadata": {},
   "outputs": [],
   "source": []
  }
 ],
 "metadata": {
  "kernelspec": {
   "display_name": "Python [conda env:base] *",
   "language": "python",
   "name": "conda-base-py"
  },
  "language_info": {
   "codemirror_mode": {
    "name": "ipython",
    "version": 3
   },
   "file_extension": ".py",
   "mimetype": "text/x-python",
   "name": "python",
   "nbconvert_exporter": "python",
   "pygments_lexer": "ipython3",
   "version": "3.12.7"
  }
 },
 "nbformat": 4,
 "nbformat_minor": 5
}
