{
 "cells": [
  {
   "cell_type": "code",
   "execution_count": 1,
   "id": "9a7c356c-8703-4563-abff-fe9a1756bd55",
   "metadata": {},
   "outputs": [],
   "source": [
    "# Universe of discourse for temperature\n",
    "U = [0, 1, 2, 3, 4, 5]\n",
    "'''\n",
    "0 = Very Low\n",
    "1 = Low\n",
    "2 = Medium\n",
    "3 = High\n",
    "4 = Very High\n",
    "5 = Extreme\n",
    "'''\n",
    "# Fuzzy sets A and B on U\n",
    "# Membership values between 0 and 1\n",
    "fuzzy_A = {0: 0.3, 1: 0.2, 2: 0.5, 3: 0.7, 4: 1.0, 5: 0.9}\n",
    "fuzzy_B = {0: 0.1, 1: 0.4, 2: 0.6, 3: 0.8, 4: 0.2, 5: 0.6}"
   ]
  },
  {
   "cell_type": "code",
   "execution_count": 3,
   "id": "f97e989e-3079-42d2-a720-3651ab6bc775",
   "metadata": {},
   "outputs": [
    {
     "name": "stdout",
     "output_type": "stream",
     "text": [
      "Union: {0: 0.3, 1: 0.4, 2: 0.6, 3: 0.8, 4: 1.0, 5: 0.9}\n",
      "Intersection: {0: 0.1, 1: 0.2, 2: 0.5, 3: 0.7, 4: 0.2, 5: 0.6}\n",
      "Complement of A: {0: 0.7, 1: 0.8, 2: 0.5, 3: 0.30000000000000004, 4: 0.0, 5: 0.09999999999999998}\n",
      "Difference A - B: {0: 0.9, 1: 0.6, 2: 0.5, 3: 0.7, 4: 1.0, 5: 0.9}\n"
     ]
    }
   ],
   "source": [
    "def union(A, B):\n",
    "    return {x: max(A[x], B[x]) for x in A}\n",
    "def intersection(A, B):\n",
    "    return {x: min(A[x], B[x]) for x in A}\n",
    "def complement(A):\n",
    "    return {x: 1 - A[x] for x in A}\n",
    "def difference(A, B):\n",
    "    B_complement = complement(B)\n",
    "    return {x: max(A[x], B_complement[x]) for x in A}\n",
    "# Perform operations\n",
    "print(\"Union:\", union(fuzzy_A, fuzzy_B))\n",
    "print(\"Intersection:\", intersection(fuzzy_A, fuzzy_B))\n",
    "print(\"Complement of A:\", complement(fuzzy_A))\n",
    "print(\"Difference A - B:\", difference(fuzzy_A, fuzzy_B))"
   ]
  },
  {
   "cell_type": "code",
   "execution_count": 5,
   "id": "213a5fbb-2f9e-4bdd-84dc-194b1002bc68",
   "metadata": {},
   "outputs": [
    {
     "name": "stdout",
     "output_type": "stream",
     "text": [
      "\n",
      "Cartesian Product of A × B:\n",
      "(0, 0): 0.1\n",
      "(0, 1): 0.3\n",
      "(0, 2): 0.3\n",
      "(0, 3): 0.3\n",
      "(0, 4): 0.2\n",
      "(0, 5): 0.3\n"
     ]
    }
   ],
   "source": [
    "def cartesian_product(A, B):\n",
    "    return {(a, b): min(A[a], B[b]) for a in A for b in B}\n",
    "    \n",
    "# Step 1: Cartesian Product A × B\n",
    "print(\"\\nCartesian Product of A × B:\")\n",
    "R1 = cartesian_product(fuzzy_A, fuzzy_B)\n",
    "for k, v in list(R1.items())[:6]: # Only showing first 6 for brevity\n",
    "    print(f\"{k}: {v}\")"
   ]
  },
  {
   "cell_type": "code",
   "execution_count": 7,
   "id": "f4e06059-2751-4dee-9851-89cde2363d64",
   "metadata": {},
   "outputs": [
    {
     "name": "stdout",
     "output_type": "stream",
     "text": [
      "{0: 0.3, 1: 0.2, 2: 0.5, 3: 0.7, 4: 1.0, 5: 0.9}\n",
      "{0: 0.1, 1: 0.4, 2: 0.6, 3: 0.8, 4: 0.2, 5: 0.6}\n",
      "{'x': 0.6, 'y': 0.4}\n"
     ]
    }
   ],
   "source": [
    "fuzzy_C = {'x': 0.6, 'y': 0.4}\n",
    "print(fuzzy_A)\n",
    "print(fuzzy_B)\n",
    "print(fuzzy_C)"
   ]
  },
  {
   "cell_type": "code",
   "execution_count": 9,
   "id": "2d61e08c-c241-4fbd-9982-864f7385caa0",
   "metadata": {},
   "outputs": [
    {
     "data": {
      "text/plain": [
       "{(0, 'x'): 0.1,\n",
       " (0, 'y'): 0.1,\n",
       " (1, 'x'): 0.4,\n",
       " (1, 'y'): 0.4,\n",
       " (2, 'x'): 0.6,\n",
       " (2, 'y'): 0.4,\n",
       " (3, 'x'): 0.6,\n",
       " (3, 'y'): 0.4,\n",
       " (4, 'x'): 0.2,\n",
       " (4, 'y'): 0.2,\n",
       " (5, 'x'): 0.6,\n",
       " (5, 'y'): 0.4}"
      ]
     },
     "execution_count": 9,
     "metadata": {},
     "output_type": "execute_result"
    }
   ],
   "source": [
    "# Step 2: Cartesian Product B × C\n",
    "R2 = cartesian_product(fuzzy_B, fuzzy_C)\n",
    "R2"
   ]
  },
  {
   "cell_type": "code",
   "execution_count": 11,
   "id": "990ec883-a523-4ade-a204-dd2f151d0a1e",
   "metadata": {},
   "outputs": [
    {
     "data": {
      "text/plain": [
       "{(0, 'y'): 0.3,\n",
       " (0, 'x'): 0.3,\n",
       " (1, 'y'): 0.2,\n",
       " (1, 'x'): 0.2,\n",
       " (2, 'y'): 0.4,\n",
       " (2, 'x'): 0.5,\n",
       " (3, 'y'): 0.4,\n",
       " (3, 'x'): 0.6,\n",
       " (4, 'y'): 0.4,\n",
       " (4, 'x'): 0.6,\n",
       " (5, 'y'): 0.4,\n",
       " (5, 'x'): 0.6}"
      ]
     },
     "execution_count": 11,
     "metadata": {},
     "output_type": "execute_result"
    }
   ],
   "source": [
    "def max_min_composition(relation1, relation2):\n",
    "    result = {}\n",
    "    xs = set(x for x, _ in relation1)\n",
    "    zs = set(z for _, z in relation2)\n",
    "\n",
    "    for x in xs:\n",
    "        for z in zs:\n",
    "            min_vals = []\n",
    "            for y in set(y for _, y in relation1):\n",
    "                min_val = min(relation1.get((x, y), 0), relation2.get((y, z), 0))\n",
    "                min_vals.append(min_val)\n",
    "            result[(x, z)] = max(min_vals)\n",
    "    return result\n",
    "\n",
    "# Step 3: Max-Min Composition (A × B) o (B × C)\n",
    "R3 = max_min_composition(R1, R2)\n",
    "R3"
   ]
  },
  {
   "cell_type": "code",
   "execution_count": 13,
   "id": "84212b49-5f91-4844-8151-7b62508c5bad",
   "metadata": {},
   "outputs": [
    {
     "name": "stdout",
     "output_type": "stream",
     "text": [
      "\n",
      "Max-Min Composition of R1 and R2 (A × C):\n",
      "(0, 'y'): 0.3\n",
      "(0, 'x'): 0.3\n",
      "(1, 'y'): 0.2\n",
      "(1, 'x'): 0.2\n",
      "(2, 'y'): 0.4\n",
      "(2, 'x'): 0.5\n",
      "(3, 'y'): 0.4\n",
      "(3, 'x'): 0.6\n",
      "(4, 'y'): 0.4\n",
      "(4, 'x'): 0.6\n",
      "(5, 'y'): 0.4\n",
      "(5, 'x'): 0.6\n"
     ]
    }
   ],
   "source": [
    "# Final output\n",
    "print(\"\\nMax-Min Composition of R1 and R2 (A × C):\")\n",
    "for k, v in R3.items():\n",
    "    print(f\"{k}: {v}\")"
   ]
  },
  {
   "cell_type": "code",
   "execution_count": null,
   "id": "7828bf48-6573-4313-90b3-70054b39dedc",
   "metadata": {},
   "outputs": [],
   "source": []
  },
  {
   "cell_type": "code",
   "execution_count": null,
   "id": "e0645415-e77d-4d80-aa67-08b64a03de5a",
   "metadata": {},
   "outputs": [],
   "source": []
  }
 ],
 "metadata": {
  "kernelspec": {
   "display_name": "Python [conda env:base] *",
   "language": "python",
   "name": "conda-base-py"
  },
  "language_info": {
   "codemirror_mode": {
    "name": "ipython",
    "version": 3
   },
   "file_extension": ".py",
   "mimetype": "text/x-python",
   "name": "python",
   "nbconvert_exporter": "python",
   "pygments_lexer": "ipython3",
   "version": "3.12.7"
  }
 },
 "nbformat": 4,
 "nbformat_minor": 5
}
